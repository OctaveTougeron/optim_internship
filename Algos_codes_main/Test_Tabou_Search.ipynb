{
 "cells": [
  {
   "cell_type": "markdown",
   "metadata": {},
   "source": [
    "### Algo Tabou"
   ]
  },
  {
   "cell_type": "markdown",
   "metadata": {},
   "source": [
    "    Initialisation : Commence avec une solution initiale.\n",
    "    Mouvement : À chaque itération, génère des solutions voisines (solutions légèrement modifiées).\n",
    "    Évaluation : Évalue les solutions voisines et choisit la meilleure, même si elle est pire que la solution actuelle, pour éviter de rester bloqué dans un optimum local.\n",
    "    Liste Tabou : Utilise une liste tabou pour mémoriser les mouvements récents et empêcher le retour aux solutions récemment visitées.\n",
    "    Aspiration : Permet des exceptions à la liste tabou si une solution offre une amélioration significative.\n",
    "    Mise à Jour : Met à jour la solution actuelle et la liste tabou à chaque itération.\n",
    "    Termination : Continue jusqu'à ce qu'un critère d'arrêt soit atteint (nombre d'itérations, temps écoulé, etc.).\n",
    "\n",
    "La recherche tabou exploite à la fois l'exploration et l'exploitation pour trouver des solutions de haute qualité dans l'espace de recherche.\n"
   ]
  },
  {
   "cell_type": "code",
   "execution_count": 1,
   "metadata": {},
   "outputs": [
    {
     "name": "stdout",
     "output_type": "stream",
     "text": [
      "Meilleure solution trouvée: (2, 3)\n",
      "Valeur de la fonction objective: -8\n",
      "Nombre d'appels à la fonction objectif: 179\n"
     ]
    }
   ],
   "source": [
    "import random\n",
    "from Tabou_Search import *\n",
    "calls = 0\n",
    "\n",
    "# Fonction à minimiser\n",
    "def objective_function(x, y):\n",
    "    global calls\n",
    "    calls+=1\n",
    "    return -x - 2*y\n",
    "\n",
    "# Contraintes\n",
    "def constraint1(x, y):\n",
    "    return 4*x - 3*y - 2\n",
    "\n",
    "def constraint2(x, y):\n",
    "    return -2*x + y - 1\n",
    "\n",
    "def constraint3(x, y):\n",
    "    return -6*x + 14*y - 35\n",
    "\n",
    "\n",
    "constraints = [constraint1,constraint2,constraint3]\n",
    "# Paramètres de l'algorithme\n",
    "initial_solution = (0, 0)  # Solution initiale\n",
    "max_iterations = 100  # Nombre maximum d'itérations\n",
    "tabu_size = 10  # Taille de la liste tabou\n",
    "\n",
    "# Exécution de l'algorithme\n",
    "best_solution = tabu_search(objective_function, constraints,initial_solution, max_iterations, tabu_size)\n",
    "print(\"Meilleure solution trouvée:\", best_solution)\n",
    "print(\"Valeur de la fonction objective:\", objective_function(*best_solution))\n",
    "print(\"Nombre d'appels à la fonction objectif:\", calls)\n"
   ]
  },
  {
   "cell_type": "code",
   "execution_count": 6,
   "metadata": {},
   "outputs": [
    {
     "name": "stdout",
     "output_type": "stream",
     "text": [
      "Meilleure solution trouvée: (1, 2)\n",
      "Valeurs des fonctions objectif: (0, 5)\n",
      "Nombre d'appels à la fonction objectif: 1342\n"
     ]
    }
   ],
   "source": [
    "import random\n",
    "\n",
    "calls = 0\n",
    "\n",
    "# Fonction objectif 1\n",
    "def objective_function1(x, y):\n",
    "    global calls\n",
    "    calls += 1\n",
    "    return (x - 1)**2 + (y - 2)**2\n",
    "\n",
    "# Fonction objectif 2\n",
    "def objective_function2(x, y):\n",
    "    global calls\n",
    "    calls += 1\n",
    "    return (x + 1)**2 + (y - 1)**2\n",
    "\n",
    "def constraints(x,y):\n",
    "    return(-1)\n",
    "\n",
    "# Paramètres de l'algorithme\n",
    "initial_solution = (10, 10)  # Solution initiale\n",
    "max_iterations = 100  # Nombre maximum d'itérations\n",
    "tabu_size = 10  # Taille de la liste tabou\n",
    "\n",
    "# Exécution de l'algorithme\n",
    "best_solution = tabu_search_2(objective_function1, objective_function2, [constraints], initial_solution, max_iterations, tabu_size)\n",
    "print(\"Meilleure solution trouvée:\", best_solution)\n",
    "print(\"Valeurs des fonctions objectif:\", (objective_function1(*best_solution), objective_function2(*best_solution)))\n",
    "print(\"Nombre d'appels à la fonction objectif:\", calls)\n"
   ]
  }
 ],
 "metadata": {
  "kernelspec": {
   "display_name": "base",
   "language": "python",
   "name": "python3"
  },
  "language_info": {
   "codemirror_mode": {
    "name": "ipython",
    "version": 3
   },
   "file_extension": ".py",
   "mimetype": "text/x-python",
   "name": "python",
   "nbconvert_exporter": "python",
   "pygments_lexer": "ipython3",
   "version": "3.12.2"
  }
 },
 "nbformat": 4,
 "nbformat_minor": 2
}
