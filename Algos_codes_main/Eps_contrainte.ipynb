{
 "cells": [
  {
   "cell_type": "markdown",
   "metadata": {},
   "source": [
    "## Epsilon-contrainte"
   ]
  },
  {
   "cell_type": "markdown",
   "metadata": {},
   "source": [
    "La méthode epsilon contrainte est une méthode qui permet de passer d'un problème multi-objectif à un problème mono-objectif par l'ajout des objectifs négligés en tant que contraintes."
   ]
  },
  {
   "cell_type": "code",
   "execution_count": 1,
   "metadata": {},
   "outputs": [],
   "source": [
    "import pyomo\n",
    "import pyomo.environ as pyo\n",
    "from pyomo.environ import Var, Constraint, ConcreteModel, Reals, Binary, Objective, minimize, Integers, sqrt\n",
    "import amplpy"
   ]
  },
  {
   "cell_type": "code",
   "execution_count": 11,
   "metadata": {},
   "outputs": [],
   "source": [
    "model = m = pyo.ConcreteModel()\n",
    "\n",
    "# Variables continues\n",
    "m.x1 = Var(within=Reals, bounds=(-2,2))\n",
    "m.x2 = Var(within=Integers, bounds=(-4,4))\n",
    "\n",
    "\n",
    "\n",
    "# Objectif\n",
    "def objective_rule(m):\n",
    "    return(m.x1**2+m.x2**2)\n",
    "\n",
    "m.obj = Objective(sense=minimize, rule=objective_rule)\n",
    "\n",
    "# Contraintes\n",
    "epsilon = 1\n",
    "m.e1 = Constraint(expr= (m.x1-2)**2 + (m.x2-2)**2 <=36)\n",
    "m.e2 = Constraint(expr= m.x1+m.x2 <= epsilon) # 2eme objectif passé sous contrainte\n"
   ]
  },
  {
   "cell_type": "code",
   "execution_count": 15,
   "metadata": {},
   "outputs": [
    {
     "name": "stdout",
     "output_type": "stream",
     "text": [
      "Valeur de x1 : 0.0\n",
      "Valeur de x2 : 0.0\n"
     ]
    }
   ],
   "source": [
    "# Choix de l'algorithme de résolution\n",
    "m_instance = m.create_instance()\n",
    "opt = pyo.SolverFactory('SCIP') # avec SCIP\n",
    "result = opt.solve(m_instance)\n",
    "\n",
    "# Accéder aux valeurs des variables\n",
    "x1_value = pyo.value(m_instance.x1)\n",
    "x2_value = pyo.value(m_instance.x2)\n",
    "\n",
    "# Imprimer les valeurs des variables\n",
    "print(\"Valeur de x1 :\", x1_value)\n",
    "print(\"Valeur de x2 :\", x2_value)\n"
   ]
  },
  {
   "cell_type": "markdown",
   "metadata": {},
   "source": [
    "On trouve une valeur qui est dans le front de Pareto : l'optimisation est correcte. La difficulté réside dans le choix de epsilon. Si il est trop petit, le problème peut être infaisable, s'il est trop grand, la solution obtenue peut être hors du domaine de faisabilité et donc être faussée."
   ]
  }
 ],
 "metadata": {
  "kernelspec": {
   "display_name": "base",
   "language": "python",
   "name": "python3"
  },
  "language_info": {
   "codemirror_mode": {
    "name": "ipython",
    "version": 3
   },
   "file_extension": ".py",
   "mimetype": "text/x-python",
   "name": "python",
   "nbconvert_exporter": "python",
   "pygments_lexer": "ipython3",
   "version": "3.12.2"
  }
 },
 "nbformat": 4,
 "nbformat_minor": 2
}
