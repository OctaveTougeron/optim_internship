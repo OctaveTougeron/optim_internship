{
 "cells": [
  {
   "cell_type": "markdown",
   "metadata": {},
   "source": [
    "## Méthode des poids"
   ]
  },
  {
   "cell_type": "markdown",
   "metadata": {},
   "source": [
    "La méthode des poids consiste juste à optimiser la somme pondérée de deux objectifs. Bien sûr, la solution sera différente en fonction des poids attribués, mais elle sera toujours dans le front de Pareto."
   ]
  },
  {
   "cell_type": "code",
   "execution_count": 2,
   "metadata": {},
   "outputs": [],
   "source": [
    "import pyomo\n",
    "import pyomo.environ as pyo\n",
    "from pyomo.environ import Var, Constraint, ConcreteModel, Reals, Binary, Objective, minimize, Integers, sqrt\n",
    "import amplpy"
   ]
  },
  {
   "cell_type": "code",
   "execution_count": 3,
   "metadata": {},
   "outputs": [],
   "source": [
    "model = m = pyo.ConcreteModel()\n",
    "\n",
    "# Variables continues\n",
    "m.x1 = Var(within=Reals, bounds=(-2,2))\n",
    "m.x2 = Var(within=Integers, bounds=(-4,4))\n",
    "\n",
    "\n",
    "\n",
    "# Objectif\n",
    "def objective_rule(m):\n",
    "    return(0.5*(m.x1**2+m.x2**2)+0.5*(m.x1+m.x2)) # somme pondérée\n",
    "\n",
    "m.obj = Objective(sense=minimize, rule=objective_rule)\n",
    "\n",
    "# Contraintes\n",
    "epsilon = 1\n",
    "m.e1 = Constraint(expr= (m.x1-2)**2 + (m.x2-2)**2 <=36)\n",
    "\n"
   ]
  },
  {
   "cell_type": "code",
   "execution_count": 4,
   "metadata": {},
   "outputs": [
    {
     "name": "stdout",
     "output_type": "stream",
     "text": [
      "Valeur de x1 : -0.4997272990962513\n",
      "Valeur de x2 : 0.0\n"
     ]
    }
   ],
   "source": [
    "# Choix de l'algorithme de résolution\n",
    "m_instance = m.create_instance()\n",
    "opt = pyo.SolverFactory('SCIP') # avec SCIP\n",
    "result = opt.solve(m_instance)\n",
    "\n",
    "# Accéder aux valeurs des variables\n",
    "x1_value = pyo.value(m_instance.x1)\n",
    "x2_value = pyo.value(m_instance.x2)\n",
    "\n",
    "# Imprimer les valeurs des variables\n",
    "print(\"Valeur de x1 :\", x1_value)\n",
    "print(\"Valeur de x2 :\", x2_value)\n"
   ]
  },
  {
   "cell_type": "code",
   "execution_count": 12,
   "metadata": {},
   "outputs": [
    {
     "name": "stdout",
     "output_type": "stream",
     "text": [
      "0.2497273734620342 -0.4997272990962513\n"
     ]
    }
   ],
   "source": [
    "print(x1_value**2+x2_value**2,x1_value+x2_value )"
   ]
  },
  {
   "cell_type": "markdown",
   "metadata": {},
   "source": [
    "Le point obtenu est bien dans le Front de Pareto, on obtient bien une valeur correcte après otpimisation"
   ]
  }
 ],
 "metadata": {
  "kernelspec": {
   "display_name": "base",
   "language": "python",
   "name": "python3"
  },
  "language_info": {
   "codemirror_mode": {
    "name": "ipython",
    "version": 3
   },
   "file_extension": ".py",
   "mimetype": "text/x-python",
   "name": "python",
   "nbconvert_exporter": "python",
   "pygments_lexer": "ipython3",
   "version": "3.12.2"
  }
 },
 "nbformat": 4,
 "nbformat_minor": 2
}
