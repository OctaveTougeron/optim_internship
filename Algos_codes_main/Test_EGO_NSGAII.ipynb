{
 "cells": [
  {
   "cell_type": "markdown",
   "metadata": {},
   "source": [
    "# Test avec l'algorithme EGO_NSGAII pour 2 objectifs"
   ]
  },
  {
   "cell_type": "code",
   "execution_count": 2,
   "metadata": {},
   "outputs": [],
   "source": [
    "from EGO_NSGAII_2obj import EI, divivide_plan, MOEGO_NSGAII"
   ]
  },
  {
   "cell_type": "code",
   "execution_count": 3,
   "metadata": {},
   "outputs": [],
   "source": [
    "import openturns as ot\n",
    "import numpy as np"
   ]
  },
  {
   "cell_type": "markdown",
   "metadata": {},
   "source": [
    "## Définition des objectifs, et des sets d'entrainement pour les modèles"
   ]
  },
  {
   "cell_type": "code",
   "execution_count": 4,
   "metadata": {},
   "outputs": [],
   "source": [
    "objectif1 = ot.SymbolicFunction(['x1', 'x2'], ['x1+x2'])\n",
    "objectif2 = ot.SymbolicFunction(['x1', 'x2'], ['(x1)^2+(x2)^2'])\n",
    "constraints_ineq = ot.SymbolicFunction(['x', 'y'], ['-(x-2)^2 - (y-2)^2 +36'])\n",
    "\n",
    "x1 = np.linspace(0, 10, 10)\n",
    "x2 = np.linspace(0, 10, 10)\n",
    "\n",
    "x_train = ot.Sample([[x, y] for x in x1 for y in x2] )"
   ]
  },
  {
   "cell_type": "code",
   "execution_count": 5,
   "metadata": {},
   "outputs": [],
   "source": [
    "N_appels_max = 500\n",
    "dimension = 2\n",
    "bounds_low = [-2,-5]\n",
    "bounds_up = [2,5]\n",
    "n = 3\n",
    "var_types = [0,1]\n"
   ]
  },
  {
   "cell_type": "code",
   "execution_count": 6,
   "metadata": {},
   "outputs": [
    {
     "name": "stdout",
     "output_type": "stream",
     "text": [
      "Appels réalisés :  204 / 500\n",
      "Appels réalisés :  208 / 500\n",
      "Appels réalisés :  212 / 500\n",
      "Appels réalisés :  220 / 500\n",
      "Appels réalisés :  224 / 500\n",
      "Appels réalisés :  228 / 500\n",
      "Appels réalisés :  232 / 500\n",
      "Appels réalisés :  236 / 500\n",
      "Appels réalisés :  240 / 500\n",
      "Appels réalisés :  244 / 500\n",
      "Appels réalisés :  248 / 500\n",
      "Appels réalisés :  256 / 500\n",
      "Appels réalisés :  260 / 500\n",
      "Appels réalisés :  264 / 500\n",
      "Appels réalisés :  272 / 500\n",
      "Appels réalisés :  276 / 500\n",
      "Appels réalisés :  280 / 500\n",
      "Appels réalisés :  284 / 500\n",
      "Appels réalisés :  288 / 500\n",
      "Appels réalisés :  292 / 500\n",
      "Appels réalisés :  296 / 500\n",
      "Appels réalisés :  300 / 500\n",
      "Appels réalisés :  304 / 500\n",
      "Appels réalisés :  312 / 500\n",
      "Appels réalisés :  316 / 500\n",
      "Appels réalisés :  320 / 500\n",
      "Appels réalisés :  324 / 500\n",
      "Appels réalisés :  328 / 500\n",
      "Appels réalisés :  332 / 500\n",
      "Appels réalisés :  336 / 500\n",
      "Appels réalisés :  340 / 500\n",
      "Appels réalisés :  344 / 500\n",
      "Appels réalisés :  352 / 500\n",
      "Appels réalisés :  356 / 500\n",
      "Appels réalisés :  360 / 500\n",
      "Appels réalisés :  368 / 500\n",
      "Appels réalisés :  372 / 500\n",
      "Appels réalisés :  380 / 500\n",
      "Appels réalisés :  388 / 500\n",
      "Appels réalisés :  392 / 500\n",
      "Appels réalisés :  396 / 500\n",
      "Appels réalisés :  400 / 500\n",
      "Appels réalisés :  408 / 500\n",
      "Appels réalisés :  416 / 500\n",
      "Appels réalisés :  420 / 500\n",
      "Appels réalisés :  428 / 500\n",
      "Appels réalisés :  436 / 500\n",
      "Appels réalisés :  440 / 500\n",
      "Appels réalisés :  448 / 500\n",
      "Appels réalisés :  456 / 500\n",
      "Appels réalisés :  460 / 500\n",
      "Appels réalisés :  468 / 500\n",
      "Appels réalisés :  472 / 500\n",
      "Appels réalisés :  480 / 500\n",
      "Appels réalisés :  488 / 500\n",
      "Appels réalisés :  492 / 500\n",
      "Appels réalisés :  496 / 500\n",
      "Appels réalisés :  500 / 500\n",
      "Appels réalisés :  504 / 500\n"
     ]
    }
   ],
   "source": [
    "FP1,FP2 = MOEGO_NSGAII(objectif1, objectif2,  x_train, N_appels_max,  bounds_low, bounds_up,n = n, N_iter = 100, N_pop = 128,dimension = 2,var_types = var_types, constraints_ineq = constraints_ineq, constraints_eq = None)"
   ]
  },
  {
   "cell_type": "markdown",
   "metadata": {},
   "source": [
    "## Plot du Front de Pareto"
   ]
  },
  {
   "cell_type": "code",
   "execution_count": 7,
   "metadata": {},
   "outputs": [
    {
     "data": {
      "text/plain": [
       "Text(0, 0.5, 'f2')"
      ]
     },
     "execution_count": 7,
     "metadata": {},
     "output_type": "execute_result"
    },
    {
     "data": {
      "image/png": "[encoded data removed]",
      "text/plain": [
       "<Figure size 640x480 with 1 Axes>"
      ]
     },
     "metadata": {},
     "output_type": "display_data"
    }
   ],
   "source": [
    "import matplotlib.pyplot as plt\n",
    "\n",
    "plt.scatter(FP1,FP2)\n",
    "plt.title('Front de Pareto')\n",
    "plt.xlabel('f1')\n",
    "plt.ylabel('f2')"
   ]
  }
 ],
 "metadata": {
  "kernelspec": {
   "display_name": "base",
   "language": "python",
   "name": "python3"
  },
  "language_info": {
   "codemirror_mode": {
    "name": "ipython",
    "version": 3
   },
   "file_extension": ".py",
   "mimetype": "text/x-python",
   "name": "python",
   "nbconvert_exporter": "python",
   "pygments_lexer": "ipython3",
   "version": "3.12.2"
  }
 },
 "nbformat": 4,
 "nbformat_minor": 2
}
