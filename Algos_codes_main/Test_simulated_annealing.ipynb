{
 "cells": [
  {
   "cell_type": "markdown",
   "metadata": {},
   "source": [
    "# Test de l'algorithme du recuit simulé"
   ]
  },
  {
   "cell_type": "markdown",
   "metadata": {},
   "source": [
    "## Mono-objectif à 2 variables"
   ]
  },
  {
   "cell_type": "code",
   "execution_count": 1,
   "metadata": {},
   "outputs": [],
   "source": [
    "import numpy as np\n",
    "import math\n",
    "import random\n",
    "from simulated_annealing import *\n",
    "eval_calls = 0\n",
    "# Fonction à optimiser (exemple ici : fonction de Rosenbrock)\n",
    "def fonction_objectif(x, y):\n",
    "    global eval_calls\n",
    "    eval_calls+=1\n",
    "    return (1 - x)**2 + 100 * (y - x**2)**2\n"
   ]
  },
  {
   "cell_type": "code",
   "execution_count": 5,
   "metadata": {},
   "outputs": [
    {
     "name": "stdout",
     "output_type": "stream",
     "text": [
      "Meilleure solution trouvée: (0.9996288031569059, 1.0023930706042006)\n",
      "Valeur de la fonction objectif: 0.0009831650153210986\n",
      "Nb d'évaluations: 3768\n"
     ]
    }
   ],
   "source": [
    "eval_calls=0\n",
    "# Paramètres de l'algorithme\n",
    "T_init = 100.0\n",
    "T_min = 1e-5\n",
    "alpha = 0.99\n",
    "max_iterations = 100000\n",
    "\n",
    "# Domaine de recherche\n",
    "xmin, xmax = -5, 5\n",
    "ymin, ymax = -5, 5\n",
    "\n",
    "best_solution, best_value = recuit_simule(fonction_objectif, xmin, xmax, ymin, ymax, T_init, T_min, alpha, max_iterations)\n",
    "\n",
    "print(\"Meilleure solution trouvée:\", best_solution)\n",
    "print(\"Valeur de la fonction objectif:\", best_value)\n",
    "print('Nb d\\'évaluations:' ,eval_calls)\n"
   ]
  },
  {
   "cell_type": "markdown",
   "metadata": {},
   "source": [
    "## Multi-objectif"
   ]
  },
  {
   "cell_type": "code",
   "execution_count": 10,
   "metadata": {},
   "outputs": [
    {
     "name": "stdout",
     "output_type": "stream",
     "text": [
      "Meilleure solution trouvée: (1.1547266899692559, 0.9017818722878826)\n",
      "Valeurs des fonctions objectif: [1.230023404624351, 4.65249390907714]\n",
      "Nombre d'appels à la fonction objectif: 153800\n"
     ]
    }
   ],
   "source": [
    "import numpy as np\n",
    "import math\n",
    "import random\n",
    "\n",
    "eval_calls = 0\n",
    "\n",
    "# Fonctions objectif\n",
    "def objective_function1(x, y):\n",
    "    global eval_calls\n",
    "    eval_calls += 1\n",
    "    return (x-1)**2 +  (y - 2)**2\n",
    "\n",
    "def objective_function2(x, y):\n",
    "    global eval_calls\n",
    "    eval_calls += 1\n",
    "    return (x + 1)**2 + (y - 1)**2\n",
    "\n",
    "front = []\n",
    "# Paramètres de l'algorithme\n",
    "xmin, xmax = -5, 5\n",
    "ymin, ymax = -5, 5\n",
    "T_init = 1.0\n",
    "T_min = 0.01\n",
    "alpha = 0.99\n",
    "max_iterations = 300\n",
    "\n",
    "for i in range(100):\n",
    "    best_solution, best_value = multi_objective_simulated_annealing([objective_function1, objective_function2], xmin, xmax, ymin, ymax, T_init, T_min, alpha, max_iterations)\n",
    "    front.append(best_value)\n",
    "\n",
    "#best_solution, best_value = multi_objective_simulated_annealing([objective_function1, objective_function2], xmin, xmax, ymin, ymax, T_init, T_min, alpha, max_iterations)\n",
    "# Exécution de l'algorithme multi-objectif de recuit simulé\n",
    "\n",
    "# Affichage du résultat\n",
    "print(\"Meilleure solution trouvée:\", best_solution)\n",
    "print(\"Valeurs des fonctions objectif:\", best_value)\n",
    "print(\"Nombre d'appels à la fonction objectif:\", eval_calls)\n"
   ]
  },
  {
   "cell_type": "code",
   "execution_count": 11,
   "metadata": {},
   "outputs": [
    {
     "data": {
      "text/plain": [
       "<matplotlib.collections.PathCollection at 0x2876ac15af0>"
      ]
     },
     "execution_count": 11,
     "metadata": {},
     "output_type": "execute_result"
    },
    {
     "data": {
      "image/png": "[encoded data removed]",
      "text/plain": [
       "<Figure size 640x480 with 1 Axes>"
      ]
     },
     "metadata": {},
     "output_type": "display_data"
    }
   ],
   "source": [
    "import matplotlib.pyplot as plt\n",
    "F1 = [front[i][0] for i in range(len(front))]\n",
    "F2 = [front[i][1] for i in range(len(front))]\n",
    "\n",
    "plt.scatter(F1,F2)"
   ]
  },
  {
   "cell_type": "markdown",
   "metadata": {},
   "source": [
    "### BNH"
   ]
  },
  {
   "cell_type": "code",
   "execution_count": 12,
   "metadata": {},
   "outputs": [
    {
     "name": "stdout",
     "output_type": "stream",
     "text": [
      "Meilleure solution trouvée: (4.057792492678566, 2.277628212964473)\n",
      "Valeurs des fonctions objectif: [86.61308076052107, 8.29906313369988]\n",
      "Nombre d'appels à la fonction objectif: 163044\n"
     ]
    }
   ],
   "source": [
    "import numpy as np\n",
    "import math\n",
    "import random\n",
    "\n",
    "eval_calls = 0\n",
    "\n",
    "# Fonctions objectif\n",
    "def objective_function1(x, y):\n",
    "    global eval_calls\n",
    "    eval_calls += 1\n",
    "    return 4*x**2 + 4*y**2\n",
    "\n",
    "def objective_function2(x, y):\n",
    "    global eval_calls\n",
    "    eval_calls += 1\n",
    "    return (x-5)**2 + (y-5)**2 \n",
    "\n",
    "def c1(x,y):\n",
    "    return ((x-5)**2 + (y-5)**2 -25)\n",
    "\n",
    "def c2(x,y):\n",
    "    return((x-8)**2 + (y+3)**2 -7.7 )\n",
    "\n",
    "front = []\n",
    "# Paramètres de l'algorithme\n",
    "xmin, xmax = 0, 5\n",
    "ymin, ymax = 0, 3\n",
    "T_init = 10.0\n",
    "T_min = 0.01\n",
    "alpha = 0.99\n",
    "max_iterations = 300\n",
    "\n",
    "for i in range(100):\n",
    "    best_solution, best_value = multi_objective_simulated_annealing([objective_function1, objective_function2], xmin, xmax, ymin, ymax, T_init, T_min, alpha, max_iterations)\n",
    "    front.append(best_value)\n",
    "#best_solution, best_value = multi_objective_simulated_annealing([objective_function1, objective_function2], xmin, xmax, ymin, ymax, T_init, T_min, alpha, max_iterations)\n",
    "\n",
    "# Exécution de l'algorithme multi-objectif de recuit simulé\n",
    "\n",
    "# Affichage du résultat\n",
    "print(\"Meilleure solution trouvée:\", best_solution)\n",
    "print(\"Valeurs des fonctions objectif:\", best_value)\n",
    "print(\"Nombre d'appels à la fonction objectif:\", eval_calls)"
   ]
  },
  {
   "cell_type": "code",
   "execution_count": 14,
   "metadata": {},
   "outputs": [
    {
     "data": {
      "text/plain": [
       "<matplotlib.collections.PathCollection at 0x2876ac47320>"
      ]
     },
     "execution_count": 14,
     "metadata": {},
     "output_type": "execute_result"
    },
    {
     "data": {
      "image/png": "[encoded data removed]",
      "text/plain": [
       "<Figure size 640x480 with 1 Axes>"
      ]
     },
     "metadata": {},
     "output_type": "display_data"
    }
   ],
   "source": [
    "import matplotlib.pyplot as plt\n",
    "F1 = [front[i][0] for i in range(len(front))]\n",
    "F2 = [front[i][1] for i in range(len(front))]\n",
    "\n",
    "plt.scatter(F1,F2)"
   ]
  },
  {
   "cell_type": "markdown",
   "metadata": {},
   "source": [
    "### TNK"
   ]
  },
  {
   "cell_type": "code",
   "execution_count": 204,
   "metadata": {},
   "outputs": [
    {
     "name": "stdout",
     "output_type": "stream",
     "text": [
      "Meilleure solution trouvée: (0, 0)\n",
      "Valeurs des fonctions objectif: [0, 0]\n",
      "Nombre d'appels à la fonction objectif: 379624\n"
     ]
    }
   ],
   "source": [
    "import numpy as np\n",
    "import math\n",
    "import random\n",
    "\n",
    "eval_calls = 0\n",
    "\n",
    "# Fonctions objectif\n",
    "def objective_function1(x, y):\n",
    "    global eval_calls\n",
    "    eval_calls += 1\n",
    "    return x\n",
    "\n",
    "def objective_function2(x, y):\n",
    "    global eval_calls\n",
    "    eval_calls += 1\n",
    "    return y\n",
    "\n",
    "def c1(x,y):\n",
    "    return ((x-5)**2 + (y-5)**2 -25)\n",
    "\n",
    "def c2(x,y):\n",
    "    return((x-8)**2 + (y+3)**2 -7.7 )\n",
    "\n",
    "# Algorithme de recuit simulé multi-objectif\n",
    "def multi_objective_simulated_annealing(objective_functions, xmin, xmax, ymin, ymax, T_init, T_min, alpha, max_iterations):\n",
    "    # Initialisation de la solution initiale\n",
    "    x_current = random.uniform(xmin, xmax)\n",
    "    y_current = random.uniform(ymin, ymax)\n",
    "    best_solution = (x_current, y_current)\n",
    "    best_value = [f(x_current, y_current) for f in objective_functions]\n",
    "\n",
    "    T = T_init\n",
    "\n",
    "    for i in range(max_iterations):\n",
    "        # Sélection d'une nouvelle solution voisine\n",
    "        x_new = x_current + random.uniform(-0.1, 0.1)\n",
    "        y_new = y_current + random.uniform(-0.1, 0.1)\n",
    "        \n",
    "        # Vérifier les limites\n",
    "        x_new = min(max(xmin, x_new), xmax)\n",
    "        y_new = min(max(ymin, y_new), ymax)\n",
    "\n",
    "        # Calcul de la variation des fonctions objectif\n",
    "        delta = [f(x_new, y_new) - f(x_current, y_current) for f in objective_functions]\n",
    "\n",
    "        # Accepter la nouvelle solution avec une certaine probabilité\n",
    "        accept = all(d <= 0 or random.random() < math.exp(-d / T) for d in delta)\n",
    "        if accept :\n",
    "            x_current, y_current = x_new, y_new\n",
    "\n",
    "            # Mettre à jour la meilleure solution si nécessaire\n",
    "            current_values = [f(x_current, y_current) for f in objective_functions]\n",
    "            if all(cv <= bv for cv, bv in zip(current_values, best_value)):\n",
    "                best_solution = (x_current, y_current)\n",
    "                best_value = current_values\n",
    "\n",
    "        # Refroidissement de la température\n",
    "        T *= alpha\n",
    "        if T < T_min:\n",
    "            break\n",
    "\n",
    "    return best_solution, best_value\n",
    "\n",
    "\n",
    "front = []\n",
    "# Paramètres de l'algorithme\n",
    "xmin, xmax = 0, np.pi\n",
    "ymin, ymax = 0, np.pi\n",
    "T_init = 10.0\n",
    "T_min = 0.01\n",
    "alpha = 0.99\n",
    "max_iterations = 1000\n",
    "\n",
    "for i in range(100):\n",
    "    best_solution, best_value = multi_objective_simulated_annealing([objective_function1, objective_function2], xmin, xmax, ymin, ymax, T_init, T_min, alpha, max_iterations)\n",
    "    front.append(best_value)\n",
    "\n",
    "\n",
    "# Exécution de l'algorithme multi-objectif de recuit simulé\n",
    "\n",
    "# Affichage du résultat\n",
    "print(\"Meilleure solution trouvée:\", best_solution)\n",
    "print(\"Valeurs des fonctions objectif:\", best_value)\n",
    "print(\"Nombre d'appels à la fonction objectif:\", eval_calls)"
   ]
  },
  {
   "cell_type": "code",
   "execution_count": 205,
   "metadata": {},
   "outputs": [
    {
     "data": {
      "text/plain": [
       "<matplotlib.collections.PathCollection at 0x1f2a4730e30>"
      ]
     },
     "execution_count": 205,
     "metadata": {},
     "output_type": "execute_result"
    },
    {
     "data": {
      "image/png": "[encoded data removed]",
      "text/plain": [
       "<Figure size 640x480 with 1 Axes>"
      ]
     },
     "metadata": {},
     "output_type": "display_data"
    }
   ],
   "source": [
    "import matplotlib.pyplot as plt\n",
    "F1 = [front[i][0] for i in range(len(front))]\n",
    "F2 = [front[i][1] for i in range(len(front))]\n",
    "\n",
    "plt.scatter(F1,F2)"
   ]
  },
  {
   "cell_type": "markdown",
   "metadata": {},
   "source": [
    "### ZDT1"
   ]
  },
  {
   "cell_type": "code",
   "execution_count": 207,
   "metadata": {},
   "outputs": [
    {
     "name": "stdout",
     "output_type": "stream",
     "text": [
      "Meilleure solution trouvée: (0, 0)\n",
      "Valeurs des fonctions objectif: [0, 1.0]\n",
      "Nombre d'appels à la fonction objectif: 354622\n"
     ]
    }
   ],
   "source": [
    "import numpy as np\n",
    "import math\n",
    "import random\n",
    "\n",
    "eval_calls = 0\n",
    "\n",
    "# Fonctions objectif\n",
    "def objective_function1(x, y):\n",
    "    global eval_calls\n",
    "    eval_calls += 1\n",
    "    return x\n",
    "\n",
    "def objective_function2(x, y):\n",
    "    global eval_calls\n",
    "    eval_calls += 1\n",
    "    g = 1 + 9*(x+y)\n",
    "    h = 1-np.sqrt(x/g)\n",
    "    return g*h\n",
    "\n",
    "\n",
    "# Algorithme de recuit simulé multi-objectif\n",
    "def multi_objective_simulated_annealing(objective_functions, xmin, xmax, ymin, ymax, T_init, T_min, alpha, max_iterations):\n",
    "    # Initialisation de la solution initiale\n",
    "    x_current = random.uniform(xmin, xmax)\n",
    "    y_current = random.uniform(ymin, ymax)\n",
    "    best_solution = (x_current, y_current)\n",
    "    best_value = [f(x_current, y_current) for f in objective_functions]\n",
    "\n",
    "    T = T_init\n",
    "\n",
    "    for i in range(max_iterations):\n",
    "        # Sélection d'une nouvelle solution voisine\n",
    "        x_new = x_current + random.uniform(-0.1, 0.1)\n",
    "        y_new = y_current + random.uniform(-0.1, 0.1)\n",
    "        \n",
    "        # Vérifier les limites\n",
    "        x_new = min(max(xmin, x_new), xmax)\n",
    "        y_new = min(max(ymin, y_new), ymax)\n",
    "\n",
    "        # Calcul de la variation des fonctions objectif\n",
    "        delta = [f(x_new, y_new) - f(x_current, y_current) for f in objective_functions]\n",
    "\n",
    "        # Accepter la nouvelle solution avec une certaine probabilité\n",
    "        accept = all(d <= 0 or random.random() < math.exp(-d / T) for d in delta)\n",
    "        if accept :\n",
    "            x_current, y_current = x_new, y_new\n",
    "\n",
    "            # Mettre à jour la meilleure solution si nécessaire\n",
    "            current_values = [f(x_current, y_current) for f in objective_functions]\n",
    "            if all(cv <= bv for cv, bv in zip(current_values, best_value)):\n",
    "                best_solution = (x_current, y_current)\n",
    "                best_value = current_values\n",
    "\n",
    "        # Refroidissement de la température\n",
    "        T *= alpha\n",
    "        if T < T_min:\n",
    "            break\n",
    "\n",
    "    return best_solution, best_value\n",
    "\n",
    "\n",
    "front = []\n",
    "# Paramètres de l'algorithme\n",
    "xmin, xmax = 0, 1\n",
    "ymin, ymax = 0, 1\n",
    "T_init = 10.0\n",
    "T_min = 0.01\n",
    "alpha = 0.99\n",
    "max_iterations = 1000\n",
    "\n",
    "for i in range(100):\n",
    "    best_solution, best_value = multi_objective_simulated_annealing([objective_function1, objective_function2], xmin, xmax, ymin, ymax, T_init, T_min, alpha, max_iterations)\n",
    "    front.append(best_value)\n",
    "\n",
    "\n",
    "# Exécution de l'algorithme multi-objectif de recuit simulé\n",
    "\n",
    "# Affichage du résultat\n",
    "print(\"Meilleure solution trouvée:\", best_solution)\n",
    "print(\"Valeurs des fonctions objectif:\", best_value)\n",
    "print(\"Nombre d'appels à la fonction objectif:\", eval_calls)"
   ]
  },
  {
   "cell_type": "code",
   "execution_count": 208,
   "metadata": {},
   "outputs": [
    {
     "data": {
      "text/plain": [
       "<matplotlib.collections.PathCollection at 0x1f2a4a7d1f0>"
      ]
     },
     "execution_count": 208,
     "metadata": {},
     "output_type": "execute_result"
    },
    {
     "data": {
      "image/png": "[encoded data removed]",
      "text/plain": [
       "<Figure size 640x480 with 1 Axes>"
      ]
     },
     "metadata": {},
     "output_type": "display_data"
    }
   ],
   "source": [
    "import matplotlib.pyplot as plt\n",
    "F1 = [front[i][0] for i in range(len(front))]\n",
    "F2 = [front[i][1] for i in range(len(front))]\n",
    "\n",
    "plt.scatter(F1,F2)"
   ]
  },
  {
   "cell_type": "markdown",
   "metadata": {},
   "source": [
    "### Srinivas"
   ]
  },
  {
   "cell_type": "code",
   "execution_count": 19,
   "metadata": {},
   "outputs": [
    {
     "name": "stdout",
     "output_type": "stream",
     "text": [
      "Meilleure solution trouvée: (-4.802783235690661, 11.643994384271267)\n",
      "Valeurs des fonctions objectif: [161.57247620419216, -156.5196655736142]\n",
      "Nombre d'appels à la fonction objectif: 736088\n"
     ]
    }
   ],
   "source": [
    "import numpy as np\n",
    "import math\n",
    "import random\n",
    "\n",
    "eval_calls = 0\n",
    "\n",
    "# Fonctions objectif\n",
    "def objective_function1(x, y):\n",
    "    global eval_calls\n",
    "    eval_calls += 1\n",
    "    return (x-2)**2 + (y-1)**2 +2\n",
    "\n",
    "def objective_function2(x, y):\n",
    "    global eval_calls\n",
    "    eval_calls += 1\n",
    "    return 9*x - (y-1)**2 \n",
    "\n",
    "def c1(x,y):\n",
    "    return x**2+y**2-225\n",
    "\n",
    "def c2(x,y):\n",
    "    return x-3*y +10\n",
    "\n",
    "front = []\n",
    "# Paramètres de l'algorithme\n",
    "xmin, xmax = -20, 20\n",
    "ymin, ymax = -20, 20\n",
    "T_init = 100.0\n",
    "T_min = 0.00001\n",
    "alpha = 0.99\n",
    "max_iterations = 10000\n",
    "\n",
    "for i in range(100):\n",
    "    best_solution, best_value = multi_objective_simulated_annealing([objective_function1, objective_function2], xmin, xmax, ymin, ymax, T_init, T_min, alpha, max_iterations)\n",
    "    front.append(best_value)\n",
    "\n",
    "\n",
    "# Exécution de l'algorithme multi-objectif de recuit simulé\n",
    "\n",
    "# Affichage du résultat\n",
    "print(\"Meilleure solution trouvée:\", best_solution)\n",
    "print(\"Valeurs des fonctions objectif:\", best_value)\n",
    "print(\"Nombre d'appels à la fonction objectif:\", eval_calls)"
   ]
  },
  {
   "cell_type": "code",
   "execution_count": 20,
   "metadata": {},
   "outputs": [
    {
     "data": {
      "text/plain": [
       "<matplotlib.collections.PathCollection at 0x2876bcd2360>"
      ]
     },
     "execution_count": 20,
     "metadata": {},
     "output_type": "execute_result"
    },
    {
     "data": {
      "image/png": "[encoded data removed]",
      "text/plain": [
       "<Figure size 640x480 with 1 Axes>"
      ]
     },
     "metadata": {},
     "output_type": "display_data"
    }
   ],
   "source": [
    "import matplotlib.pyplot as plt\n",
    "F1 = [front[i][0] for i in range(len(front))]\n",
    "F2 = [front[i][1] for i in range(len(front))]\n",
    "\n",
    "plt.scatter(F1,F2)"
   ]
  },
  {
   "cell_type": "markdown",
   "metadata": {},
   "source": [
    "## Ackley"
   ]
  },
  {
   "cell_type": "code",
   "execution_count": 18,
   "metadata": {},
   "outputs": [
    {
     "name": "stdout",
     "output_type": "stream",
     "text": [
      "Meilleure solution trouvée: (0.00020992192982278307, -0.0004929034344134317)\n",
      "Valeur de la fonction objectif: 0.0015229541073793484\n",
      "Nb d'évaluations: 4782\n"
     ]
    }
   ],
   "source": [
    "eval_calls = 0\n",
    "# Fonction à optimiser (exemple ici : fonction de Ackley)\n",
    "def fonction_ackley(x, y):\n",
    "    global eval_calls\n",
    "    eval_calls+=1\n",
    "    return (-20*np.exp(-0.2*np.sqrt(1/2*(x**2 + y**2))) - np.exp(1/2*(np.cos(2*np.pi*x)+np.cos(2*np.pi*y))) + np.exp(1) +20)\n",
    "\n",
    "# Paramètres de l'algorithme\n",
    "T_init = 100.0\n",
    "T_min = 1e-7\n",
    "alpha = 0.99\n",
    "max_iterations = 100000\n",
    "\n",
    "# Domaine de recherche\n",
    "xmin, xmax = -5, 5\n",
    "ymin, ymax = -5, 5\n",
    "\n",
    "best_solution, best_value = recuit_simule(fonction_ackley, xmin, xmax, ymin, ymax, T_init, T_min, alpha, max_iterations)\n",
    "\n",
    "print(\"Meilleure solution trouvée:\", best_solution)\n",
    "print(\"Valeur de la fonction objectif:\", best_value)\n",
    "print('Nb d\\'évaluations:' ,eval_calls)"
   ]
  }
 ],
 "metadata": {
  "kernelspec": {
   "display_name": "base",
   "language": "python",
   "name": "python3"
  },
  "language_info": {
   "codemirror_mode": {
    "name": "ipython",
    "version": 3
   },
   "file_extension": ".py",
   "mimetype": "text/x-python",
   "name": "python",
   "nbconvert_exporter": "python",
   "pygments_lexer": "ipython3",
   "version": "3.12.2"
  }
 },
 "nbformat": 4,
 "nbformat_minor": 2
}
