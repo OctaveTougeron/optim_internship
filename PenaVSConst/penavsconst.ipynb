{
 "cells": [
  {
   "cell_type": "code",
   "execution_count": 1,
   "metadata": {},
   "outputs": [],
   "source": [
    "import openturns as ot"
   ]
  },
  {
   "cell_type": "markdown",
   "metadata": {},
   "source": [
    "On teste ici déifférents problèmes pour comparer la méthode sous contraintes vs la méthode de pénalisation"
   ]
  },
  {
   "cell_type": "markdown",
   "metadata": {},
   "source": [
    "## Exemple 1"
   ]
  },
  {
   "cell_type": "code",
   "execution_count": 2,
   "metadata": {},
   "outputs": [],
   "source": [
    "\n",
    "obj = ot.SymbolicFunction(['x', 'y'], ['-x-2*y'])\n",
    "cons1 = ot.SymbolicFunction(['x', 'y'], ['2-4*x+3*y','1-y+2*x','35-14*y+6*x'])\n",
    "\n",
    "problem2 = ot.OptimizationProblem(obj)\n",
    "\n",
    "problem2.setMinimization(True)\n",
    "bounds = ot.Interval([0,0], [1e308, 1e308])\n",
    "problem2.setBounds(bounds)\n",
    "problem2.setInequalityConstraint(cons1)\n",
    "\n",
    "problem2.setVariablesType([ot.OptimizationProblemImplementation.INTEGER,\n",
    "                           ot.OptimizationProblemImplementation.INTEGER])\n",
    "\n",
    "integer_values = [[i] for i in range(1, 5)]\n",
    "discrete_values = ot.Sample(integer_values)\n",
    "factory = ot.UserDefinedFactory()\n",
    "distribution = factory.build(discrete_values)\n",
    "uniform = ot.ComposedDistribution([distribution, distribution])\n"
   ]
  },
  {
   "cell_type": "code",
   "execution_count": 3,
   "metadata": {},
   "outputs": [
    {
     "name": "stdout",
     "output_type": "stream",
     "text": [
      "[2,3] [-8] 10100\n"
     ]
    }
   ],
   "source": [
    "init_pop = uniform.getSample(100)\n",
    "start = obj.getCallsNumber()\n",
    "algo = ot.Pagmo(problem2, 'gaco', init_pop)\n",
    "algo.setMaximumIterationNumber(100)\n",
    "algo.run()\n",
    "end = obj.getCallsNumber()\n",
    "result = algo.getResult()\n",
    "print(result.getOptimalPoint(), result.getOptimalValue(), end-start)"
   ]
  },
  {
   "cell_type": "code",
   "execution_count": 12,
   "metadata": {},
   "outputs": [
    {
     "name": "stdout",
     "output_type": "stream",
     "text": [
      "1.0\n"
     ]
    }
   ],
   "source": [
    "N = 10000\n",
    "res = []\n",
    "count = 0\n",
    "for i in range (N):\n",
    "    init_pop = uniform.getSample(100)\n",
    "    algo = ot.Pagmo(problem2, 'gaco', init_pop)\n",
    "    algo.setMaximumIterationNumber(10)\n",
    "    algo.setBlockSize(14)\n",
    "    algo.run()\n",
    "    result = algo.getResult()\n",
    "    res.append(result.getOptimalValue()[0])\n",
    "    if result.getOptimalValue()[0] == -8:\n",
    "        count+=1\n",
    "freq = count/N\n",
    "print(freq)"
   ]
  },
  {
   "cell_type": "code",
   "execution_count": 5,
   "metadata": {},
   "outputs": [],
   "source": [
    "obj = ot.SymbolicFunction(['x', 'y'], ['-x-2*y + 10*(max(-2+4*x-3*y,0)^2+max(-1+y-2*x,0)^2+max(-35+14*y-6*x,0)^2)'])\n",
    "\n",
    "problem2 = ot.OptimizationProblem(obj)\n",
    "\n",
    "problem2.setMinimization(True)\n",
    "bounds = ot.Interval([0,0], [1e308, 1e308])\n",
    "problem2.setBounds(bounds)\n",
    "\n",
    "problem2.setVariablesType([ot.OptimizationProblemImplementation.INTEGER,\n",
    "                           ot.OptimizationProblemImplementation.INTEGER])\n",
    "\n",
    "integer_values = [[i] for i in range(1, 5)]\n",
    "discrete_values = ot.Sample(integer_values)\n",
    "factory = ot.UserDefinedFactory()\n",
    "distribution = factory.build(discrete_values)\n",
    "uniform = ot.ComposedDistribution([distribution, distribution])\n"
   ]
  },
  {
   "cell_type": "code",
   "execution_count": 6,
   "metadata": {},
   "outputs": [
    {
     "name": "stdout",
     "output_type": "stream",
     "text": [
      "[2,3] [-8] 44\n"
     ]
    }
   ],
   "source": [
    "init_pop = uniform.getSample(4)\n",
    "start = obj.getCallsNumber()\n",
    "algo = ot.Pagmo(problem2, 'gaco', init_pop)\n",
    "algo.setMaximumIterationNumber(10)\n",
    "algo.run()\n",
    "end = obj.getCallsNumber()\n",
    "result = algo.getResult()\n",
    "print(result.getOptimalPoint(), result.getOptimalValue(), end-start)"
   ]
  },
  {
   "cell_type": "code",
   "execution_count": 7,
   "metadata": {},
   "outputs": [
    {
     "name": "stdout",
     "output_type": "stream",
     "text": [
      "0.8359\n"
     ]
    }
   ],
   "source": [
    "N = 10000\n",
    "res = []\n",
    "count = 0\n",
    "for i in range (N):\n",
    "    init_pop = uniform.getSample(4)\n",
    "    algo = ot.Pagmo(problem2, 'gaco', init_pop)\n",
    "    algo.setMaximumIterationNumber(10)\n",
    "    algo.run()\n",
    "    result = algo.getResult()\n",
    "    res.append(result.getOptimalValue()[0])\n",
    "    if result.getOptimalValue()[0] == -8:\n",
    "        count+=1\n",
    "freq = count/N\n",
    "print(freq)"
   ]
  },
  {
   "cell_type": "markdown",
   "metadata": {},
   "source": [
    "## Exemple 2"
   ]
  },
  {
   "cell_type": "code",
   "execution_count": 4,
   "metadata": {},
   "outputs": [],
   "source": [
    "import openturns as ot\n",
    "\n",
    "# Création du modèle\n",
    "problem = ot.OptimizationProblem()\n",
    "\n",
    "# Fonction objectif\n",
    "objectiveFunction = ot.SymbolicFunction(\n",
    "    ['i1', 'i2', 'i3', 'i4', 'i5', 'i6', 'i7', 'i8', 'i9', 'i10'],\n",
    "    ['-i1 - i2 - i3 - i4 - i5 - i6 - i7 - i8 - i9 - i10']\n",
    ")\n",
    "problem.setObjective(objectiveFunction)\n",
    "\n",
    "# Bornes des variables\n",
    "bounds = ot.Interval([-1, -1, -1, -1, -1, -1, -1, -1, -1, -1], [1, 1, 1, 1, 1, 1, 1, 1, 1, 1])\n",
    "\n",
    "# Types des variables\n",
    "variablesType = [\n",
    "    ot.OptimizationProblemImplementation.INTEGER,\n",
    "    ot.OptimizationProblemImplementation.INTEGER,\n",
    "    ot.OptimizationProblemImplementation.INTEGER,\n",
    "    ot.OptimizationProblemImplementation.INTEGER,\n",
    "    ot.OptimizationProblemImplementation.INTEGER,\n",
    "    ot.OptimizationProblemImplementation.INTEGER,\n",
    "    ot.OptimizationProblemImplementation.INTEGER,\n",
    "    ot.OptimizationProblemImplementation.INTEGER,\n",
    "    ot.OptimizationProblemImplementation.INTEGER,\n",
    "    ot.OptimizationProblemImplementation.INTEGER\n",
    "]\n",
    "\n",
    "problem.setBounds(bounds)\n",
    "problem.setVariablesType(variablesType)\n",
    "\n",
    "# Contraintes\n",
    "h_expr = '-i9^2 + 0.987420882906575 * i9 - i8^2 + 0.987420882906575 * i8 - i7^2 - 0.987420882906575 * i7 - i6^2 - 0.987420882906575 * i6 - i5^2 + 0.987420882906575 * i5 - i4^2 +0.987420882906575 * i4 - i3^2 + 0.987420882906575 * i3 - i2^2 + 0.987420882906575 * i2 - i1^2 + 0.987420882906575 * i1 - i10^2 + 0.987420882906575 * i10'\n",
    "\n",
    "h = ot.SymbolicFunction(\n",
    "    ['i1', 'i2', 'i3', 'i4', 'i5', 'i6', 'i7', 'i8', 'i9', 'i10'],\n",
    "    [h_expr]\n",
    ")\n",
    "\n",
    "\n",
    "problem.setInequalityConstraint(h)\n"
   ]
  },
  {
   "cell_type": "code",
   "execution_count": 5,
   "metadata": {},
   "outputs": [],
   "source": [
    "integer_values = [[-1],[0],[1]]\n",
    "discrete_values = ot.Sample(integer_values)\n",
    "factory = ot.UserDefinedFactory()\n",
    "distribution = factory.build(discrete_values)\n",
    "uniform = ot.ComposedDistribution([distribution, distribution,distribution,distribution,distribution,distribution,distribution,distribution,distribution,distribution])"
   ]
  },
  {
   "cell_type": "code",
   "execution_count": 7,
   "metadata": {},
   "outputs": [
    {
     "name": "stdout",
     "output_type": "stream",
     "text": [
      "0.8205\n"
     ]
    }
   ],
   "source": [
    "N = 10000\n",
    "res = []\n",
    "count = 0\n",
    "for i in range (N):\n",
    "    init_pop = uniform.getSample(10)\n",
    "    algo = ot.Pagmo(problem, 'gaco', init_pop)\n",
    "    algo.setMaximumIterationNumber(50)\n",
    "    algo.setBlockSize(5)\n",
    "    algo.run()\n",
    "    result = algo.getResult()\n",
    "    res.append(result.getOptimalValue()[0])\n",
    "    if result.getOptimalValue()[0] == 0:\n",
    "        count+=1\n",
    "freq = count/N\n",
    "print(freq)"
   ]
  },
  {
   "cell_type": "code",
   "execution_count": 11,
   "metadata": {},
   "outputs": [],
   "source": [
    "import openturns as ot\n",
    "\n",
    "# Création du modèle\n",
    "problem = ot.OptimizationProblem()\n",
    "\n",
    "# Fonction objectif\n",
    "objectiveFunction = ot.SymbolicFunction(\n",
    "    ['i1', 'i2', 'i3', 'i4', 'i5', 'i6', 'i7', 'i8', 'i9', 'i10'],\n",
    "    ['-i1 - i2 - i3 - i4 - i5 - i6 - i7 - i8 - i9 - i10 +10^6 * max(-(-i9^2 + 0.987420882906575 * i9 - i8^2 + 0.987420882906575 * i8 - i7^2 - 0.987420882906575 * i7 - i6^2 - 0.987420882906575 * i6 - i5^2 + 0.987420882906575 * i5 - i4^2 +0.987420882906575 * i4 - i3^2 + 0.987420882906575 * i3 - i2^2 + 0.987420882906575 * i2 - i1^2 + 0.987420882906575 * i1 - i10^2 + 0.987420882906575 * i10),0)^2']\n",
    ")\n",
    "problem.setObjective(objectiveFunction)\n",
    "\n",
    "# Bornes des variables\n",
    "bounds = ot.Interval([-1, -1, -1, -1, -1, -1, -1, -1, -1, -1], [1, 1, 1, 1, 1, 1, 1, 1, 1, 1])\n",
    "\n",
    "# Types des variables\n",
    "variablesType = [\n",
    "    ot.OptimizationProblemImplementation.INTEGER,\n",
    "    ot.OptimizationProblemImplementation.INTEGER,\n",
    "    ot.OptimizationProblemImplementation.INTEGER,\n",
    "    ot.OptimizationProblemImplementation.INTEGER,\n",
    "    ot.OptimizationProblemImplementation.INTEGER,\n",
    "    ot.OptimizationProblemImplementation.INTEGER,\n",
    "    ot.OptimizationProblemImplementation.INTEGER,\n",
    "    ot.OptimizationProblemImplementation.INTEGER,\n",
    "    ot.OptimizationProblemImplementation.INTEGER,\n",
    "    ot.OptimizationProblemImplementation.INTEGER\n",
    "]\n",
    "\n",
    "problem.setBounds(bounds)\n",
    "problem.setVariablesType(variablesType)\n"
   ]
  },
  {
   "cell_type": "code",
   "execution_count": 12,
   "metadata": {},
   "outputs": [
    {
     "name": "stdout",
     "output_type": "stream",
     "text": [
      "0.8135\n"
     ]
    }
   ],
   "source": [
    "N = 10000\n",
    "res = []\n",
    "count = 0\n",
    "objectiveFunction2 = ot.SymbolicFunction(\n",
    "    ['i1', 'i2', 'i3', 'i4', 'i5', 'i6', 'i7', 'i8', 'i9', 'i10'],\n",
    "    ['-i1 - i2 - i3 - i4 - i5 - i6 - i7 - i8 - i9 - i10 ']\n",
    ")\n",
    "for i in range (N):\n",
    "    init_pop = uniform.getSample(10)\n",
    "    algo = ot.Pagmo(problem, 'gaco', init_pop)\n",
    "    algo.setMaximumIterationNumber(50)\n",
    "    algo.run()\n",
    "    result = algo.getResult()\n",
    "    res.append(objectiveFunction2(result.getOptimalPoint())[0])\n",
    "    if objectiveFunction2(result.getOptimalPoint())[0] == 0:\n",
    "        count+=1\n",
    "freq = count/N\n",
    "print(freq)"
   ]
  },
  {
   "cell_type": "markdown",
   "metadata": {},
   "source": [
    "## Exemple 3"
   ]
  },
  {
   "cell_type": "code",
   "execution_count": 74,
   "metadata": {},
   "outputs": [],
   "source": [
    "import openturns as ot\n",
    "\n",
    "# Création du modèle\n",
    "problem = ot.OptimizationProblem()\n",
    "\n",
    "# Fonction objectif\n",
    "objectiveFunction = ot.SymbolicFunction(\n",
    "    ['x1', 'x2','x3','x4','x5'],\n",
    "    ['-0.5 * (100 * x1 * x1 + 100 * x2 * x2 + 100 * x3 * x3 + 100 * x4 * x4 + 100 * x5 * x5) + 42 * x1 + 44 * x2 + 45 * x3 + 47 * x4 + 47.5 * x5']\n",
    ")\n",
    "cons1 = ot.SymbolicFunction(\n",
    "    ['x1', 'x2','x3','x4','x5'],\n",
    "    ['20 * x1 - 12 * x2 - 11 * x3 - 7 * x4 - 4 * x5 + 40'])\n",
    "\n",
    "problem.setObjective(objectiveFunction)\n",
    "problem.setInequalityConstraint(cons1)\n",
    "# Bornes des variables\n",
    "bounds = ot.Interval([0,0,0,0,0], [1,1,1,1,1])\n",
    "\n",
    "# Types des variables\n",
    "variablesType = [\n",
    "    ot.OptimizationProblemImplementation.CONTINUOUS,\n",
    "    ot.OptimizationProblemImplementation.CONTINUOUS,\n",
    "    ot.OptimizationProblemImplementation.CONTINUOUS,\n",
    "    ot.OptimizationProblemImplementation.CONTINUOUS,\n",
    "    ot.OptimizationProblemImplementation.CONTINUOUS,\n",
    "]\n",
    "\n",
    "problem.setBounds(bounds)\n",
    "problem.setVariablesType(variablesType)"
   ]
  },
  {
   "cell_type": "code",
   "execution_count": 75,
   "metadata": {},
   "outputs": [],
   "source": [
    "integer_values = [[i]for i in range (201)]\n",
    "discrete_values = ot.Sample(integer_values)\n",
    "factory = ot.UserDefinedFactory()\n",
    "distribution = factory.build(discrete_values)\n",
    "uniform = ot.ComposedDistribution([ot.Uniform(0,1), ot.Uniform(0,1),ot.Uniform(0,1),ot.Uniform(0,1),ot.Uniform(0,1)])"
   ]
  },
  {
   "cell_type": "code",
   "execution_count": 76,
   "metadata": {},
   "outputs": [
    {
     "name": "stdout",
     "output_type": "stream",
     "text": [
      "0.322\n"
     ]
    }
   ],
   "source": [
    "N = 1000\n",
    "res = []\n",
    "count = 0\n",
    "\n",
    "for i in range (N):\n",
    "    init_pop = uniform.getSample(10)\n",
    "    algo = ot.Pagmo(problem, 'gaco', init_pop)\n",
    "    algo.setMaximumIterationNumber(150)\n",
    "    algo.run()\n",
    "    result = algo.getResult()\n",
    "    res.append(objectiveFunction(result.getOptimalPoint())[0])\n",
    "    if objectiveFunction(result.getOptimalPoint())[0] <= -15.0 and objectiveFunction(result.getOptimalPoint())[0] >= -19.0 :\n",
    "        count+=1\n",
    "freq = count/N\n",
    "print(freq)"
   ]
  },
  {
   "cell_type": "code",
   "execution_count": 77,
   "metadata": {},
   "outputs": [],
   "source": [
    "import openturns as ot\n",
    "\n",
    "# Création du modèle\n",
    "problem = ot.OptimizationProblem()\n",
    "\n",
    "# Fonction objectif\n",
    "objectiveFunction = ot.SymbolicFunction(\n",
    "    ['x1', 'x2','x3','x4','x5'],\n",
    "    ['-0.5 * (100 * x1 * x1 + 100 * x2 * x2 + 100 * x3 * x3 + 100 * x4 * x4 + 100 * x5 * x5) + 42 * x1 + 44 * x2 + 45 * x3 + 47 * x4 + 47.5 * x5 + 10e-6*max(0,20 * x1 - 12 * x2 - 11 * x3 - 7 * x4 - 4 * x5 + 40)^2']\n",
    ")\n",
    "\n",
    "\n",
    "problem.setObjective(objectiveFunction)\n",
    "problem.setInequalityConstraint(cons1)\n",
    "# Bornes des variables\n",
    "bounds = ot.Interval([0,0,0,0,0], [1,1,1,1,1])\n",
    "\n",
    "# Types des variables\n",
    "variablesType = [\n",
    "    ot.OptimizationProblemImplementation.CONTINUOUS,\n",
    "    ot.OptimizationProblemImplementation.CONTINUOUS,\n",
    "    ot.OptimizationProblemImplementation.CONTINUOUS,\n",
    "    ot.OptimizationProblemImplementation.CONTINUOUS,\n",
    "    ot.OptimizationProblemImplementation.CONTINUOUS,\n",
    "]\n",
    "\n",
    "problem.setBounds(bounds)\n",
    "problem.setVariablesType(variablesType)"
   ]
  },
  {
   "cell_type": "code",
   "execution_count": 78,
   "metadata": {},
   "outputs": [
    {
     "name": "stdout",
     "output_type": "stream",
     "text": [
      "0.318\n"
     ]
    }
   ],
   "source": [
    "N = 1000\n",
    "res = []\n",
    "count = 0\n",
    "\n",
    "for i in range (N):\n",
    "    init_pop = uniform.getSample(10)\n",
    "    algo = ot.Pagmo(problem, 'gaco', init_pop)\n",
    "    algo.setMaximumIterationNumber(150)\n",
    "    algo.run()\n",
    "    result = algo.getResult()\n",
    "    res.append(objectiveFunction(result.getOptimalPoint())[0])\n",
    "    if objectiveFunction(result.getOptimalPoint())[0] <= -15.0 and objectiveFunction(result.getOptimalPoint())[0] >= -19.0 :\n",
    "        count+=1\n",
    "freq = count/N\n",
    "print(freq)"
   ]
  },
  {
   "cell_type": "markdown",
   "metadata": {},
   "source": [
    "## Exemple 4"
   ]
  },
  {
   "cell_type": "code",
   "execution_count": 79,
   "metadata": {},
   "outputs": [],
   "source": [
    "import openturns as ot\n",
    "\n",
    "# Création du modèle\n",
    "problem = ot.OptimizationProblem()\n",
    "\n",
    "# Fonction objectif\n",
    "objectiveFunction = ot.SymbolicFunction(\n",
    "    ['x1','x2'],\n",
    "    ['x2^2 - 7 * x2 - 12 * x1']\n",
    ")\n",
    "cons = ot.SymbolicFunction(['x1','x2'],\n",
    "                           ['-2 * x1^4 - x2 +2'])\n",
    "\n",
    "problem.setObjective(objectiveFunction)\n",
    "problem.setEqualityConstraint(cons)\n",
    "# Bornes des variables\n",
    "bounds = ot.Interval([0,0], [2,3])\n",
    "\n",
    "# Types des variables\n",
    "variablesType = [\n",
    "    ot.OptimizationProblemImplementation.CONTINUOUS,\n",
    "    ot.OptimizationProblemImplementation.CONTINUOUS\n",
    "]\n",
    "\n",
    "problem.setBounds(bounds)\n",
    "problem.setVariablesType(variablesType)"
   ]
  },
  {
   "cell_type": "code",
   "execution_count": 80,
   "metadata": {},
   "outputs": [],
   "source": [
    "integer_values = [[i]for i in range (201)]\n",
    "discrete_values = ot.Sample(integer_values)\n",
    "factory = ot.UserDefinedFactory()\n",
    "distribution = factory.build(discrete_values)\n",
    "uniform = ot.ComposedDistribution([ot.Uniform(0,2), ot.Uniform(0,3)])"
   ]
  },
  {
   "cell_type": "code",
   "execution_count": 81,
   "metadata": {},
   "outputs": [
    {
     "name": "stdout",
     "output_type": "stream",
     "text": [
      "0.368\n"
     ]
    }
   ],
   "source": [
    "N = 1000\n",
    "res = []\n",
    "count = 0\n",
    "\n",
    "for i in range (N):\n",
    "    init_pop = uniform.getSample(10)\n",
    "    algo = ot.Pagmo(problem, 'gaco', init_pop)\n",
    "    algo.setMaximumIterationNumber(300)\n",
    "    algo.run()\n",
    "    result = algo.getResult()\n",
    "    res.append(objectiveFunction(result.getOptimalPoint())[0])\n",
    "    if objectiveFunction(result.getOptimalPoint())[0] <= -16 and objectiveFunction(result.getOptimalPoint())[0] >= -17 :\n",
    "        count+=1\n",
    "freq = count/N\n",
    "print(freq)"
   ]
  },
  {
   "cell_type": "code",
   "execution_count": 82,
   "metadata": {},
   "outputs": [],
   "source": [
    "import openturns as ot\n",
    "\n",
    "# Création du modèle\n",
    "problem = ot.OptimizationProblem()\n",
    "\n",
    "# Fonction objectif\n",
    "objectiveFunction = ot.SymbolicFunction(\n",
    "    ['x1','x2'],\n",
    "    ['x2^2 - 7 * x2 - 12 * x1 + 10e4*max(0,-2 * x1^4 - x2 +2)^2+10e4*max(0,2 * x1^4 + x2 -2)^2']\n",
    ")\n",
    "\n",
    "problem.setObjective(objectiveFunction)\n",
    "# Bornes des variables\n",
    "bounds = ot.Interval([0,0], [2,3])\n",
    "\n",
    "# Types des variables\n",
    "variablesType = [\n",
    "    ot.OptimizationProblemImplementation.CONTINUOUS,\n",
    "    ot.OptimizationProblemImplementation.CONTINUOUS\n",
    "]\n",
    "\n",
    "problem.setBounds(bounds)\n",
    "problem.setVariablesType(variablesType)"
   ]
  },
  {
   "cell_type": "code",
   "execution_count": 83,
   "metadata": {},
   "outputs": [
    {
     "name": "stdout",
     "output_type": "stream",
     "text": [
      "0.927\n"
     ]
    }
   ],
   "source": [
    "N = 1000\n",
    "res = []\n",
    "count = 0\n",
    "\n",
    "for i in range (N):\n",
    "    init_pop = uniform.getSample(10)\n",
    "    algo = ot.Pagmo(problem, 'gaco', init_pop)\n",
    "    algo.setMaximumIterationNumber(300)\n",
    "    algo.run()\n",
    "    result = algo.getResult()\n",
    "    res.append(objectiveFunction(result.getOptimalPoint())[0])\n",
    "    if objectiveFunction(result.getOptimalPoint())[0] <= -16 and objectiveFunction(result.getOptimalPoint())[0] >= -17 :\n",
    "        count+=1\n",
    "freq = count/N\n",
    "print(freq)"
   ]
  },
  {
   "cell_type": "markdown",
   "metadata": {},
   "source": [
    "## Exemple 5"
   ]
  },
  {
   "cell_type": "code",
   "execution_count": 99,
   "metadata": {},
   "outputs": [],
   "source": [
    "import openturns as ot\n",
    "\n",
    "# Création du modèle\n",
    "problem = ot.OptimizationProblem()\n",
    "\n",
    "# Fonction objectif\n",
    "objectiveFunction = ot.SymbolicFunction(\n",
    "    ['x1','x2'],\n",
    "    ['-x1 - x2']\n",
    ")\n",
    "cons1 = ot.SymbolicFunction(['x1','x2'],\n",
    "                           ['-8 * x1^3 + 2 * x1^4 + 8 * x1^2 - x2 + 2', '-32 * x1^3 + 4 * x1^4 + 88 * x1^2 - 96 * x1- x2 + 36'])\n",
    "\n",
    "problem.setObjective(objectiveFunction)\n",
    "problem.setInequalityConstraint(cons1)\n",
    "# Bornes des variables\n",
    "bounds = ot.Interval([0,0], [3,4])\n",
    "\n",
    "# Types des variables\n",
    "variablesType = [\n",
    "    ot.OptimizationProblemImplementation.CONTINUOUS,\n",
    "    ot.OptimizationProblemImplementation.CONTINUOUS\n",
    "]\n",
    "\n",
    "problem.setBounds(bounds)\n",
    "problem.setVariablesType(variablesType)"
   ]
  },
  {
   "cell_type": "code",
   "execution_count": 100,
   "metadata": {},
   "outputs": [],
   "source": [
    "integer_values = [[i]for i in range (201)]\n",
    "discrete_values = ot.Sample(integer_values)\n",
    "factory = ot.UserDefinedFactory()\n",
    "distribution = factory.build(discrete_values)\n",
    "uniform = ot.ComposedDistribution([ot.Uniform(0,3), ot.Uniform(0,4)])"
   ]
  },
  {
   "cell_type": "code",
   "execution_count": 101,
   "metadata": {},
   "outputs": [
    {
     "name": "stdout",
     "output_type": "stream",
     "text": [
      "0.978\n"
     ]
    }
   ],
   "source": [
    "N = 1000\n",
    "res = []\n",
    "count = 0\n",
    "\n",
    "for i in range (N):\n",
    "    init_pop = uniform.getSample(10)\n",
    "    algo = ot.Pagmo(problem, 'gaco', init_pop)\n",
    "    algo.setMaximumIterationNumber(300)\n",
    "    algo.run()\n",
    "    result = algo.getResult()\n",
    "    res.append(objectiveFunction(result.getOptimalPoint())[0])\n",
    "    if objectiveFunction(result.getOptimalPoint())[0] <= -5 and objectiveFunction(result.getOptimalPoint())[0] >= -6 :\n",
    "        count+=1\n",
    "freq = count/N\n",
    "print(freq)"
   ]
  },
  {
   "cell_type": "code",
   "execution_count": 112,
   "metadata": {},
   "outputs": [],
   "source": [
    "import openturns as ot\n",
    "\n",
    "# Création du modèle\n",
    "problem = ot.OptimizationProblem()\n",
    "\n",
    "# Fonction objectif\n",
    "objectiveFunction = ot.SymbolicFunction(\n",
    "    ['x1','x2'],\n",
    "    ['-x1 - x2 + 10e10*(max(0,-(-8 * x1^3 + 2 * x1^4 + 8 * x1^2 - x2 + 2))^2+max(0,-(-32 * x1^3 + 4 * x1^4 + 88 * x1^2 - 96 * x1- x2 + 36))^2)']\n",
    ")\n",
    "\n",
    "\n",
    "problem.setObjective(objectiveFunction)\n",
    "problem.setEqualityConstraint(cons1)\n",
    "# Bornes des variables\n",
    "bounds = ot.Interval([0,0], [3,4])\n",
    "\n",
    "# Types des variables\n",
    "variablesType = [\n",
    "    ot.OptimizationProblemImplementation.CONTINUOUS,\n",
    "    ot.OptimizationProblemImplementation.CONTINUOUS\n",
    "]\n",
    "\n",
    "problem.setBounds(bounds)\n",
    "problem.setVariablesType(variablesType)"
   ]
  },
  {
   "cell_type": "code",
   "execution_count": 113,
   "metadata": {},
   "outputs": [
    {
     "name": "stdout",
     "output_type": "stream",
     "text": [
      "0.304\n"
     ]
    }
   ],
   "source": [
    "N = 1000\n",
    "res = []\n",
    "count = 0\n",
    "\n",
    "for i in range (N):\n",
    "    init_pop = uniform.getSample(10)\n",
    "    algo = ot.Pagmo(problem, 'gaco', init_pop)\n",
    "    algo.setMaximumIterationNumber(300)\n",
    "    algo.run()\n",
    "    result = algo.getResult()\n",
    "    res.append(objectiveFunction(result.getOptimalPoint())[0])\n",
    "    if objectiveFunction(result.getOptimalPoint())[0] <= -5 and objectiveFunction(result.getOptimalPoint())[0] >= -6 :\n",
    "        count+=1\n",
    "freq = count/N\n",
    "print(freq)"
   ]
  }
 ],
 "metadata": {
  "kernelspec": {
   "display_name": "base",
   "language": "python",
   "name": "python3"
  },
  "language_info": {
   "codemirror_mode": {
    "name": "ipython",
    "version": 3
   },
   "file_extension": ".py",
   "mimetype": "text/x-python",
   "name": "python",
   "nbconvert_exporter": "python",
   "pygments_lexer": "ipython3",
   "version": "3.12.2"
  }
 },
 "nbformat": 4,
 "nbformat_minor": 2
}
