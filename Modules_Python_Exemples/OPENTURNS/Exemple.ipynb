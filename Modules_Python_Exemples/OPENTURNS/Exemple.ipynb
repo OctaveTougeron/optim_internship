{
 "cells": [
  {
   "cell_type": "markdown",
   "metadata": {},
   "source": [
    "## OpenTURNS"
   ]
  },
  {
   "cell_type": "markdown",
   "metadata": {},
   "source": [
    "OpenTurns est, de tous points de vue, le module python le plus accessible et le mieux construit pour l'optimisation sous contrainte. On présente ci-dessous les méthodes générales de définition par étapes pour réussir à résoudre un problème avec les algos d'OpenTurns. "
   ]
  },
  {
   "cell_type": "markdown",
   "metadata": {},
   "source": [
    "Le module comprend la suite d'algorithme BONMIN (https://www.coin-or.org/Bonmin/), ainsi que PAGMO (https://esa.github.io/pagmo2/) et d'autres algorithmes d'optimisation linéaire tels que COBYLA ou IPOPT."
   ]
  },
  {
   "cell_type": "code",
   "execution_count": 1,
   "metadata": {},
   "outputs": [],
   "source": [
    "import openturns as ot\n",
    "import matplotlib.pyplot as plt\n",
    "\n",
    "dim = 2\n",
    "\n",
    "# Fonction objectif, ici on est en multi-objectif\n",
    "model = ot.SymbolicFunction(['x', 'y'], ['(x-1)^2+(y-2)^2', '(x+1)^2+(y-1)^2'])\n",
    "\n",
    "\n",
    "bounds = ot.Interval([-5.0] * dim, [5.0] * dim)\n",
    "\n",
    "problem = ot.OptimizationProblem(model)\n",
    "\n",
    "problem.setBounds(bounds)"
   ]
  },
  {
   "cell_type": "code",
   "execution_count": 2,
   "metadata": {},
   "outputs": [],
   "source": [
    "# Initialisation de la population\n",
    "uniform = ot.ComposedDistribution([ot.Uniform(-5.0, 5.0)] * dim)\n",
    "\n",
    "ot.RandomGenerator.SetSeed(0)\n",
    "\n",
    "init_pop = uniform.getSample(63)"
   ]
  },
  {
   "cell_type": "code",
   "execution_count": 3,
   "metadata": {},
   "outputs": [],
   "source": [
    "# Mise en place de l'algorithme\n",
    "algo = ot.Pagmo(problem, 'nsga2', init_pop) \n",
    "\n",
    "algo.setMaximumIterationNumber(5) \n",
    "start = model.getCallsNumber()\n",
    "algo.run() \n",
    "end = model.getCallsNumber()\n",
    "result = algo.getResult() \n",
    "\n",
    "final_pop_x = result.getFinalPoints() \n",
    "\n",
    "final_pop_y = result.getFinalValues()"
   ]
  },
  {
   "cell_type": "code",
   "execution_count": 4,
   "metadata": {},
   "outputs": [
    {
     "name": "stdout",
     "output_type": "stream",
     "text": [
      "360\n"
     ]
    }
   ],
   "source": [
    "# Front de Pareto\n",
    "front0 = result.getParetoFrontsIndices()[0] \n",
    "\n",
    "front0_x = final_pop_x.select(front0) \n",
    "\n",
    "front0_y = final_pop_y.select(front0) \n",
    "# nombre d'appels\n",
    "print(end-start)"
   ]
  },
  {
   "cell_type": "code",
   "execution_count": 5,
   "metadata": {},
   "outputs": [],
   "source": [
    "tab1 = [front0_y[i][0] for i in range (len(front0_y))]\n",
    "tab2 = [front0_y[i][1] for i in range (len(front0_y))]"
   ]
  },
  {
   "cell_type": "code",
   "execution_count": 6,
   "metadata": {},
   "outputs": [
    {
     "data": {
      "text/plain": [
       "Text(0.5, 1.0, 'Front de Pareto')"
      ]
     },
     "execution_count": 6,
     "metadata": {},
     "output_type": "execute_result"
    },
    {
     "data": {
      "image/png": "[encoded data removed]",
      "text/plain": [
       "<Figure size 640x480 with 1 Axes>"
      ]
     },
     "metadata": {},
     "output_type": "display_data"
    }
   ],
   "source": [
    "plt.scatter(tab1,tab2)\n",
    "plt.xlabel('f1')\n",
    "plt.ylabel('f2')\n",
    "plt.title('Front de Pareto')"
   ]
  }
 ],
 "metadata": {
  "kernelspec": {
   "display_name": "base",
   "language": "python",
   "name": "python3"
  },
  "language_info": {
   "codemirror_mode": {
    "name": "ipython",
    "version": 3
   },
   "file_extension": ".py",
   "mimetype": "text/x-python",
   "name": "python",
   "nbconvert_exporter": "python",
   "pygments_lexer": "ipython3",
   "version": "3.12.2"
  }
 },
 "nbformat": 4,
 "nbformat_minor": 2
}
