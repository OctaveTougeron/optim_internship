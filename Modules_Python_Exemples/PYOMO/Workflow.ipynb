{
 "cells": [
  {
   "cell_type": "markdown",
   "metadata": {},
   "source": [
    "## Pyomo\n"
   ]
  },
  {
   "cell_type": "markdown",
   "metadata": {},
   "source": [
    "Module contraignant car ne permet pas l'optimisation des black-box. Néanmoins, ce module est très intéressant car il implémente de nombreux algorithmes commerciaux très puissants."
   ]
  },
  {
   "cell_type": "code",
   "execution_count": 1,
   "metadata": {},
   "outputs": [],
   "source": [
    "import pyomo\n",
    "import pyomo.environ as pyo\n",
    "from pyomo.environ import Var, Constraint, ConcreteModel, Reals, Binary, Objective, minimize, Integers, sqrt\n",
    "import amplpy"
   ]
  },
  {
   "cell_type": "markdown",
   "metadata": {},
   "source": [
    "Liste des solveurs disponibles:"
   ]
  },
  {
   "cell_type": "code",
   "execution_count": 14,
   "metadata": {},
   "outputs": [
    {
     "data": {
      "text/plain": [
       "['baron',\n",
       " 'base',\n",
       " 'cbc',\n",
       " 'coin',\n",
       " 'conopt',\n",
       " 'copt',\n",
       " 'cplex',\n",
       " 'gurobi',\n",
       " 'highs',\n",
       " 'knitro',\n",
       " 'lgo',\n",
       " 'lindoglobal',\n",
       " 'loqo',\n",
       " 'minos',\n",
       " 'mosek',\n",
       " 'octeract',\n",
       " 'open',\n",
       " 'snopt',\n",
       " 'xpress']"
      ]
     },
     "execution_count": 14,
     "metadata": {},
     "output_type": "execute_result"
    }
   ],
   "source": [
    "from amplpy import modules\n",
    "\n",
    "modules.installed()"
   ]
  },
  {
   "cell_type": "markdown",
   "metadata": {},
   "source": [
    "    Open-source solvers: highs, cbc, coin (includes: CBC, Couenne, Ipopt, Bonmin), open (includes all open-source solvers)\n",
    "\n",
    "    NEOS Server: gokestrel (kestrel client)\n",
    "\n",
    "    Commercial solvers: baron, conopt, copt, cplex, gurobi, knitro, lgo, lindoglobal, loqo, minos, mosek, octeract, snopt, xpress\n",
    "\n",
    "    AMPL Plugins: amplgsl (amplgsl docs), plugins (amplplugins docs)\n"
   ]
  },
  {
   "cell_type": "markdown",
   "metadata": {},
   "source": [
    "### Workflow général via un exemple"
   ]
  },
  {
   "cell_type": "markdown",
   "metadata": {},
   "source": [
    "#### Création du problème d'optimisation"
   ]
  },
  {
   "cell_type": "code",
   "execution_count": 12,
   "metadata": {},
   "outputs": [],
   "source": [
    "model = m = pyo.ConcreteModel()\n",
    "\n",
    "# Variables continues\n",
    "m.x1 = Var(within=Reals, bounds=(0,None), initialize=0.302884615384618)\n",
    "m.x2 = Var(within=Reals, bounds=(0,None), initialize=0.0865384615384593)\n",
    "m.x3 = Var(within=Reals, bounds=(0,None), initialize=0.504807692307693)\n",
    "m.x4 = Var(within=Reals, bounds=(0,None), initialize=0.10576923076923)\n",
    "\n",
    "# Variables binaires\n",
    "m.b5 = Var(within=Binary, bounds=(0,1), initialize=0)\n",
    "m.b6 = Var(within=Binary, bounds=(0,1), initialize=0)\n",
    "m.b7 = Var(within=Binary, bounds=(0,1), initialize=0)\n",
    "m.b8 = Var(within=Binary, bounds=(0,1), initialize=0)\n",
    "\n",
    "# Objectif\n",
    "def objective_rule(m):\n",
    "    return(m.x1 * (4 * m.x1 + 3 * m.x2 - m.x3) +\n",
    "    m.x2 * (3 * m.x1 + 6 * m.x2 + m.x3) + m.x3 * (-m.x1 + m.x2 + 10 * m.x3))\n",
    "\n",
    "m.obj = Objective(sense=minimize, rule=objective_rule)\n",
    "\n",
    "# Contraintes\n",
    "\n",
    "m.e1 = Constraint(expr= m.x1 + m.x2 + m.x3 + m.x4 == 1)\n",
    "m.e2 = Constraint(expr= 8 * m.x1 + 9 * m.x2 + 12 * m.x3 + 7 * m.x4 == 10)\n",
    "m.e3 = Constraint(expr= m.x1 - m.b5 <= 0)\n",
    "m.e4 = Constraint(expr= m.x2 - m.b6 <= 0)\n",
    "m.e5 = Constraint(expr= m.x3 - m.b7 <= 0)\n",
    "m.e6 = Constraint(expr= m.x4 - m.b8 <= 0)\n",
    "m.e7 = Constraint(expr= m.b5 + m.b6 + m.b7 + m.b8 <= 3)"
   ]
  },
  {
   "cell_type": "markdown",
   "metadata": {},
   "source": [
    "#### Résolution"
   ]
  },
  {
   "cell_type": "code",
   "execution_count": 13,
   "metadata": {},
   "outputs": [
    {
     "name": "stdout",
     "output_type": "stream",
     "text": [
      "Valeur de x1 : 0.3750959173946658\n",
      "Valeur de x2 : 0.0\n"
     ]
    }
   ],
   "source": [
    "# Choix de l'algorithme de résolution\n",
    "m_instance = m.create_instance()\n",
    "opt = pyo.SolverFactory('SCIP') # avec SCIP\n",
    "result = opt.solve(m_instance)\n",
    "\n",
    "# Accéder aux valeurs des variables\n",
    "x1_value = pyo.value(m_instance.x1)\n",
    "x2_value = pyo.value(m_instance.x2)\n",
    "\n",
    "# Imprimer les valeurs des variables\n",
    "print(\"Valeur de x1 :\", x1_value)\n",
    "print(\"Valeur de x2 :\", x2_value)"
   ]
  }
 ],
 "metadata": {
  "kernelspec": {
   "display_name": "base",
   "language": "python",
   "name": "python3"
  },
  "language_info": {
   "codemirror_mode": {
    "name": "ipython",
    "version": 3
   },
   "file_extension": ".py",
   "mimetype": "text/x-python",
   "name": "python",
   "nbconvert_exporter": "python",
   "pygments_lexer": "ipython3",
   "version": "3.12.2"
  }
 },
 "nbformat": 4,
 "nbformat_minor": 2
}
